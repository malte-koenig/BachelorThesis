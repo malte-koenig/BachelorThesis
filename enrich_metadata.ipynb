{
 "cells": [
  {
   "cell_type": "markdown",
   "metadata": {},
   "source": [
    "# In this file I add meta data to the lyrics dataset"
   ]
  },
  {
   "cell_type": "code",
   "execution_count": null,
   "metadata": {},
   "outputs": [],
   "source": [
    "import pandas as pd\n",
    "import re\n",
    "import numpy as np"
   ]
  },
  {
   "cell_type": "markdown",
   "metadata": {},
   "source": [
    "### Read in lyrics dataset and meta data"
   ]
  },
  {
   "cell_type": "code",
   "execution_count": null,
   "metadata": {},
   "outputs": [],
   "source": [
    "# lyrics dataset provided by the Wasabi Research Group\n",
    "songs_old = pd.read_csv(\"./csv-data/lyrics.csv\", sep=\",\", engine=\"python\", escapechar='\\\\', encoding='utf-8')\n",
    "\n",
    "# Meta Data from the public Wasabi Github page: https://github.com/micbuffa/WasabiDataset\n",
    "meta_genre = pd.read_csv('./csv-data/wasabi_albums.csv', sep=\",\", engine=\"python\", encoding=\"utf-8\")\n",
    "meta_year = pd.read_csv(\"./csv-data/wasabi_songs.csv\", sep=\"\\t\", engine=\"python\", \n",
    "                        encoding='utf-8', usecols=['title', 'publicationDate', 'publicationDateAlbum'])\n",
    "\n",
    "# Meta Data from the Million Song Dataset\n",
    "# Website: http://millionsongdataset.com/sites/default/files/AdditionalFiles/tracks_per_year.txt\n",
    "df = pd.read_csv('./csv-data/data.txt', sep=\"<SEP>\", header=None, names=[\"year\", \"id\", \"a_name\", \"a_song\"])"
   ]
  },
  {
   "cell_type": "markdown",
   "metadata": {},
   "source": [
    "## Genre annotations\n",
    "\n",
    "### Merge columns via album titles to get genre"
   ]
  },
  {
   "cell_type": "code",
   "execution_count": null,
   "metadata": {},
   "outputs": [],
   "source": [
    "# select needed columns\n",
    "meta_sub = meta_genre.loc[ : , ['title', 'genre'] ] #'title' refers to the album title\n",
    "songs_sub = songs_old.loc[ : , ['a_name', 'a_song', 'a_album', 'a_lyrics'] ]\n",
    "\n",
    "#rename for merge\n",
    "songs_sub.rename(columns={'a_album': 'title'}, inplace=True)\n",
    "\n",
    "meta_sub['title'] = meta_sub['title'].astype(str)\n",
    "songs_sub['title'] = songs_sub['title'].astype(str)\n",
    "\n",
    "# function for lowering String and deleting special characters as well as white spaces\n",
    "def alter(x):\n",
    "    return re.sub('[^A-Za-z0-9]+', '', x)\n",
    "\n",
    "# Delete special characters or whitespaces for merging (needed)\n",
    "meta_sub['title'] = meta_sub['title'].apply(alter)\n",
    "songs_sub['title'] = songs_sub['title'].apply(alter)\n",
    "meta_sub.drop_duplicates(subset='title', inplace=True)\n",
    "\n",
    "# merge\n",
    "songs = pd.merge(songs_sub, meta_sub, on='title', how='left')\n",
    "\n",
    "a.head(10)"
   ]
  },
  {
   "cell_type": "markdown",
   "metadata": {},
   "source": [
    "## Publication Dates annotations\n",
    "\n",
    "### Add album publication Dates via 'wasabi_songs.csv' \n",
    "### Add song publication Dates (years) via 'milliong song data'"
   ]
  },
  {
   "cell_type": "code",
   "execution_count": null,
   "metadata": {},
   "outputs": [],
   "source": [
    "# delete numberin of columns\n",
    "songs.drop(songs.columns[[0]], axis=1, inplace=True)\n",
    "\n",
    "\n",
    "meta_year['title'] = meta_year['title'].astype(str) # here title refers to song title\n",
    "songs['a_song'] = songs['a_song'].astype(str)\n",
    "\n",
    "# function for lowering String and deleting special characters as well as white spaces\n",
    "def alter(x):\n",
    "    return re.sub('[^A-Za-z0-9]+', '', x).lower()\n",
    "\n",
    "# Delete special characters or whitespaces and lower text for merging (needed)\n",
    "meta_year['title'] = meta_year['title'].apply(alter)\n",
    "songs['a_song'] = songs['a_song'].apply(alter)\n",
    "\n",
    "meta_year.drop_duplicates(subset='title', inplace=True)\n",
    "meta_year.rename(columns={'title': 'a_song'}, inplace=True) # rename for merge\n",
    "\n",
    "#merge for album publication Dates\n",
    "m = pd.merge(songs, meta_year, on='a_song', how='left')\n",
    "\n",
    "# Delete special characters or whitespaces and lower text for merging (needed)\n",
    "m['a_song'] = m['a_song'].apply(alter)\n",
    "m['a_name'] = m['a_name'].apply(alter)\n",
    "df['a_song'] = df['a_song'].apply(alter)\n",
    "df['a_name'] = df['a_name'].apply(alter)\n",
    "\n",
    "# merge on  song name + artist name for song publication Dates\n",
    "songs = pd.merge(m, df, left_on=['a_song','a_name'], right_on=['a_song','a_name'], how='left')\n",
    "\n",
    "# If no song publication date available for a song -> replace with album publication date\n",
    "# This way we can obtain a approx. 'publication date' for every song\n",
    "songs.loc[songs['year'].isnull(),'year'] = songs['publicationDateAlbum']\n",
    "\n",
    "# delete publication dates for albums as we no longer need them\n",
    "del songs['publicationDateAlbum']\n",
    "\n",
    "#one entry has the value '????'. This value has to be deleted\n",
    "songs.loc[songs['year'] == \"????\",'year'] = np.nan\n",
    "\n",
    "songs.head()"
   ]
  }
 ],
 "metadata": {
  "kernelspec": {
   "display_name": "Python 3",
   "language": "python",
   "name": "python3"
  },
  "language_info": {
   "codemirror_mode": {
    "name": "ipython",
    "version": 3
   },
   "file_extension": ".py",
   "mimetype": "text/x-python",
   "name": "python",
   "nbconvert_exporter": "python",
   "pygments_lexer": "ipython3",
   "version": "3.8.5"
  }
 },
 "nbformat": 4,
 "nbformat_minor": 4
}
