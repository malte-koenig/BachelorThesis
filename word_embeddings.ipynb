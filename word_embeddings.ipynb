{
 "cells": [
  {
   "cell_type": "markdown",
   "metadata": {},
   "source": [
    "# In this file I train the Word Embeddings"
   ]
  },
  {
   "cell_type": "code",
   "execution_count": null,
   "metadata": {},
   "outputs": [],
   "source": [
    "from gensim.models import Word2Vec, FastText\n",
    "import pandas as pd\n",
    "from gensim.utils import simple_preprocess"
   ]
  },
  {
   "cell_type": "markdown",
   "metadata": {},
   "source": [
    "## Get lyrics for all Songs and for each Genre, initialize preprocessing function"
   ]
  },
  {
   "cell_type": "code",
   "execution_count": null,
   "metadata": {},
   "outputs": [],
   "source": [
    "#lyrical dataset enriched with meta data created in 'enriched_metadata.ipynb' \n",
    "songs = pd.read_csv(\"songs_enriched.csv\", sep=\",\", engine=\"python\", encoding='utf-8')\n",
    "\n",
    "songs['genre'] = songs['genre'].astype('string')\n",
    "\n",
    "# genre related datasets\n",
    "hiphop = songs.loc[songs['genre'].str.contains('Hip Hop')]\n",
    "pop = songs.loc[songs['genre'].str.contains('Pop')]\n",
    "rock = songs.loc[songs['genre'].str.contains('Rock')]\n",
    "country = songs.loc[songs['genre'].str.contains('Country')]\n",
    "\n",
    "# lyrics from each genre\n",
    "hiphop_lyrics = hiphop['a_lyrics'].values.tolist()\n",
    "rock_lyrics = rock['a_lyrics'].values.tolist()\n",
    "pop_lyrics = pop['a_lyrics'].values.tolist()\n",
    "country_lyrics = country['a_lyrics'].values.tolist()\n",
    "\n",
    "# lyrics from all songs\n",
    "all_lyrics = songs['a_lyrics'].values.tolist()\n",
    "\n",
    "# function to tokenize, remove puncutations and lower words\n",
    "def sent_to_words(sentences):\n",
    "    for sentence in sentences:\n",
    "        # deacc=True removes punctuations\n",
    "        yield(simple_preprocess(str(sentence), deacc=True))"
   ]
  },
  {
   "cell_type": "markdown",
   "metadata": {},
   "source": [
    "## Execute preprocessing on the song lyrics"
   ]
  },
  {
   "cell_type": "code",
   "execution_count": null,
   "metadata": {},
   "outputs": [],
   "source": [
    "all_lyrics = list(sent_to_words(all_lyrics))\n",
    "rock_lyrics = list(sent_to_words(rock_lyrics))\n",
    "pop_lyrics = list(sent_to_words(pop_lyrics))\n",
    "hiphop_lyrics = list(sent_to_words(hiphop_lyrics))\n",
    "country_lyrics = list(sent_to_words(country_lyrics))"
   ]
  },
  {
   "cell_type": "markdown",
   "metadata": {},
   "source": [
    "## Word2Vec CBOW"
   ]
  },
  {
   "cell_type": "code",
   "execution_count": null,
   "metadata": {},
   "outputs": [],
   "source": [
    "# training\n",
    "w2v_cbow_all = Word2Vec(all_lyrics, min_count=5, size=300, window=5)\n",
    "w2v_cbow_rock = Word2Vec(rock_lyrics, min_count=2, size=300, window=5)\n",
    "w2v_cbow_pop = Word2Vec(pop_lyrics, min_count=2, size=300, window=5)\n",
    "w2v_cbow_hiphop = Word2Vec(hiphop_lyrics, min_count=2, size=300, window=5)\n",
    "w2v_cbow_country = Word2Vec(country_lyrics, min_count=2, size=300, window=5)\n",
    "\n",
    "# save vectors\n",
    "w2v_cbow_all.wv.save_word2vec_format('allsongs_w2v_cbow_mincount5_vlen300.txt', binary=False)\n",
    "w2v_cbow_rock.wv.save_word2vec_format('rock_w2v_cbow_mincount2_vlen300.txt', binary=False)\n",
    "w2v_cbow_pop.wv.save_word2vec_format('pop_w2v_cbow_mincount2_vlen300.txt', binary=False)\n",
    "w2v_cbow_hiphop.wv.save_word2vec_format('hiphop_w2v_cbow_mincount2_vlen300.txt', binary=False)\n",
    "w2v_cbow_country.wv.save_word2vec_format('country_w2v_cbow_mincount2_vlen300.txt', binary=False)"
   ]
  },
  {
   "cell_type": "markdown",
   "metadata": {},
   "source": [
    "## Word2Vec Skip-gram"
   ]
  },
  {
   "cell_type": "code",
   "execution_count": null,
   "metadata": {},
   "outputs": [],
   "source": [
    "# training\n",
    "w2v_skipg_all = Word2Vec(all_lyrics, min_count=5, size=300, window=5, sg=1)\n",
    "w2v_skipg_rock = Word2Vec(rock_lyrics, min_count=2, size=300, window=5, sg=1)\n",
    "w2v_skipg_pop = Word2Vec(pop_lyrics, min_count=2, size=300, window=5, sg=1)\n",
    "w2v_skipg_hiphop = Word2Vec(hiphop_lyrics, min_count=2, size=300, window=5, sg=1)\n",
    "w2v_skipg_country = Word2Vec(country_lyrics, min_count=2, size=300, window=5, sg=1)\n",
    "\n",
    "# save vectors\n",
    "w2v_skipg_all.wv.save_word2vec_format('allsongs_w2v_skipg_mincount5_vlen300.txt', binary=False)\n",
    "w2v_skipg_rock.wv.save_word2vec_format('rock_w2v_skipg_mincount2_vlen300.txt', binary=False)\n",
    "w2v_skipg_pop.wv.save_word2vec_format('pop_w2v_skipg_mincount2_vlen300.txt', binary=False)\n",
    "w2v_skipg_hiphop.wv.save_word2vec_format('hiphop_w2v_skipg_mincount2_vlen300.txt', binary=False)\n",
    "w2v_skipg_country.wv.save_word2vec_format('country_w2v_skipg_mincount2_vlen300.txt', binary=False)"
   ]
  },
  {
   "cell_type": "markdown",
   "metadata": {},
   "source": [
    "## FastText"
   ]
  },
  {
   "cell_type": "code",
   "execution_count": null,
   "metadata": {},
   "outputs": [],
   "source": [
    "# initialize\n",
    "fasttext_all = FastText(size=300, window=5, min_count=5)\n",
    "fasttext_rock = FastText(size=300, window=5, min_count=2)\n",
    "fasttext_pop = FastText(size=300, window=5, min_count=2)\n",
    "fasttext_hiphop = FastText(size=300, window=5, min_count=2)\n",
    "fasttext_country = FastText(size=300, window=5, min_count=2)\n",
    "# build vocab\n",
    "fasttext_all.build_vocab(sentences=all_lyrics)\n",
    "fasttext_rock.build_vocab(sentences=rock_lyrics)\n",
    "fasttext_pop.build_vocab(sentences=pop_lyrics)\n",
    "fasttext_hiphop.build_vocab(sentences=hiphop_lyrics)\n",
    "fasttext_country.build_vocab(sentences=country_lyrics)\n",
    "# training\n",
    "fasttext_all.train(sentences=all_lyrics, total_examples=len(all_lyrics), epochs=10)\n",
    "fasttext_rock.train(sentences=rock_lyrics, total_examples=len(rock_lyrics), epochs=10)\n",
    "fasttext_pop.train(sentences=pop_lyrics, total_examples=len(pop_lyrics), epochs=10)\n",
    "fasttext_hiphop.train(sentences=hiphop_lyrics, total_examples=len(hiphop_lyrics), epochs=10)\n",
    "fasttext_country.train(sentences=country_lyrics, total_examples=len(country_lyrics), epochs=10)\n",
    "# save vectors\n",
    "fasttext_all.wv.save_word2vec_format('allsongs_fasttext_cbow_mincount5_vlen300.txt', binary=False)\n",
    "fasttext_rock.wv.save_word2vec_format('rock_fasttext_cbow_mincount2_vlen300.txt', binary=False)\n",
    "fasttext_pop.wv.save_word2vec_format('pop_fasttext_cbow_mincount2_vlen300.txt', binary=False)\n",
    "fasttext_hiphop.wv.save_word2vec_format('hiphop_fasttext_cbow_mincount2_vlen300.txt', binary=False)\n",
    "fasttext_country.wv.save_word2vec_format('country_fasttext_cbow_mincount2_vlen300.txt', binary=False)"
   ]
  }
 ],
 "metadata": {
  "kernelspec": {
   "display_name": "Python 3",
   "language": "python",
   "name": "python3"
  },
  "language_info": {
   "codemirror_mode": {
    "name": "ipython",
    "version": 3
   },
   "file_extension": ".py",
   "mimetype": "text/x-python",
   "name": "python",
   "nbconvert_exporter": "python",
   "pygments_lexer": "ipython3",
   "version": "3.8.5"
  }
 },
 "nbformat": 4,
 "nbformat_minor": 4
}
