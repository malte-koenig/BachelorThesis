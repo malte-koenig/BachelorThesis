{
 "cells": [
  {
   "cell_type": "code",
   "execution_count": null,
   "metadata": {},
   "outputs": [],
   "source": [
    "from gensim.models import Word2Vec, FastText\n",
    "import pandas as pd\n",
    "from nltk.stem import WordNetLemmatizer\n",
    "from nltk.corpus import wordnet\n",
    "from gensim.utils import simple_preprocess"
   ]
  },
  {
   "cell_type": "code",
   "execution_count": null,
   "metadata": {},
   "outputs": [],
   "source": [
    "a['genre'] = a['genre'].astype('string')\n",
    "\n",
    "hiphop = a.loc[a['genre'].str.contains('Hip Hop')]\n",
    "pop = a.loc[a['genre'].str.contains('Pop')]\n",
    "rock = a.loc[a['genre'].str.contains('Rock')]\n",
    "country = a.loc[a['genre'].str.contains('Country')]"
   ]
  },
  {
   "cell_type": "code",
   "execution_count": null,
   "metadata": {},
   "outputs": [],
   "source": [
    "stop_words = stopwords.words('english')\n",
    "#stop_words.extend(['from', 'subject', 're', 'edu', 'use', 'gon', 'na', 'wan'])\n",
    "\n",
    "def sent_to_words(sentences):\n",
    "    for sentence in sentences:\n",
    "        # deacc=True removes punctuations\n",
    "        yield(simple_preprocess(str(sentence), deacc=True))\n",
    "\n",
    "def get_wordnet_pos(word):\n",
    "    \"\"\"Map POS tag to first character lemmatize() accepts\"\"\"\n",
    "    tag = nltk.pos_tag([word])[0][1][0].upper()\n",
    "    tag_dict = {\"J\": wordnet.ADJ,\n",
    "                \"N\": wordnet.NOUN,\n",
    "                \"V\": wordnet.VERB,\n",
    "                \"R\": wordnet.ADV}\n",
    "\n",
    "    return tag_dict.get(tag, wordnet.NOUN)\n",
    "\n",
    "lemmatizer = WordNetLemmatizer()\n",
    "\n",
    "def lemm(song):\n",
    "    return [lemmatizer.lemmatize(w, get_wordnet_pos(w)) for w in nltk.word_tokenize(song)]\n",
    "\n",
    "\n",
    "lemmatized_lyrics = list(map(lemm, lyrics))\n",
    "\n"
   ]
  },
  {
   "cell_type": "code",
   "execution_count": null,
   "metadata": {},
   "outputs": [],
   "source": [
    "# Word2Vec CBOW\n",
    "model = Word2Vec(lemmatized_lyrics, min_count=2, size=300, window=5)\n",
    "model.wv.save_word2vec_format('country_w2v_cbow_mincount2_vlen300.txt', binary=False)\n",
    "\n",
    "# Word2Vec Skip-gram\n",
    "model3 = Word2Vec(lemmatized_lyrics, min_count=2, size=300, sg=1, window=5)\n",
    "model3.wv.save_word2vec_format('country_w2v_skipg_mincount2_vlen300.txt', binary=False)\n",
    "\n",
    "# FastText\n",
    "model2 = FastText(size=300, window=5, min_count=2)\n",
    "model2.build_vocab(sentences=lemmatized_lyrics)\n",
    "model2.train(sentences=array, total_examples=len(array), epochs=10)\n",
    "model2.wv.save_word2vec_format('country_fasttext_cbow_mincount2_vlen300.txt', binary=False)"
   ]
  }
 ],
 "metadata": {
  "kernelspec": {
   "display_name": "Python 3",
   "language": "python",
   "name": "python3"
  },
  "language_info": {
   "codemirror_mode": {
    "name": "ipython",
    "version": 3
   },
   "file_extension": ".py",
   "mimetype": "text/x-python",
   "name": "python",
   "nbconvert_exporter": "python",
   "pygments_lexer": "ipython3",
   "version": "3.8.5"
  }
 },
 "nbformat": 4,
 "nbformat_minor": 4
}
